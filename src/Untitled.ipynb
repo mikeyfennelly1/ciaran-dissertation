{
 "cells": [
  {
   "cell_type": "code",
   "execution_count": 5,
   "id": "078d1cbe",
   "metadata": {},
   "outputs": [],
   "source": [
    "from PIL import Image\n",
    "from PIL.ExifTags import TAGS\n",
    "from dataclasses import dataclass"
   ]
  },
  {
   "cell_type": "code",
   "execution_count": 22,
   "id": "bc1fac2a",
   "metadata": {},
   "outputs": [],
   "source": []
  },
  {
   "cell_type": "code",
   "execution_count": 30,
   "id": "e9f16710",
   "metadata": {},
   "outputs": [],
   "source": [
    "img_dir = \"../exif-samples/jpg/gps\"\n",
    "img_name = \"DSCN0010.jpg\"\n",
    "test_img = f\"{img_dir}/{img_name}\""
   ]
  },
  {
   "cell_type": "code",
   "execution_count": 53,
   "id": "84c371fd",
   "metadata": {},
   "outputs": [],
   "source": [
    "class ExifData:\n",
    "    def __init__(self, path_to_img: str):\n",
    "        self.path_to_img = path_to_img\n",
    "        print_data()\n",
    "            \n",
    "    def get_exif_data():\n",
    "        img = Image.open(self.path_to_img)\n",
    "        exif_data = img._getexif()\n",
    "\n",
    "        if exif_data:\n",
    "            for tag_id, value in exif_data.items():\n",
    "                tag = TAGS.get(tag_id, tag_id)\n",
    "                return f\"{tag:25}: {value}\"\n",
    "        else:\n",
    "            yield \"No EXIF data found.\"\n",
    "            \n",
    "    def print_data():\n",
    "        for line in self.get_exif_data:\n",
    "            print(line)"
   ]
  },
  {
   "cell_type": "code",
   "execution_count": 54,
   "id": "62214551",
   "metadata": {
    "scrolled": true
   },
   "outputs": [
    {
     "ename": "NameError",
     "evalue": "name 'print_data' is not defined",
     "output_type": "error",
     "traceback": [
      "\u001b[0;31m---------------------------------------------------------------------------\u001b[0m",
      "\u001b[0;31mNameError\u001b[0m                                 Traceback (most recent call last)",
      "Cell \u001b[0;32mIn[54], line 1\u001b[0m\n\u001b[0;32m----> 1\u001b[0m my_img_data \u001b[38;5;241m=\u001b[39m ExifData(test_img)\n",
      "Cell \u001b[0;32mIn[53], line 4\u001b[0m, in \u001b[0;36mExifData.__init__\u001b[0;34m(self, path_to_img)\u001b[0m\n\u001b[1;32m      2\u001b[0m \u001b[38;5;28;01mdef\u001b[39;00m \u001b[38;5;21m__init__\u001b[39m(\u001b[38;5;28mself\u001b[39m, path_to_img: \u001b[38;5;28mstr\u001b[39m):\n\u001b[1;32m      3\u001b[0m     \u001b[38;5;28mself\u001b[39m\u001b[38;5;241m.\u001b[39mpath_to_img \u001b[38;5;241m=\u001b[39m path_to_img\n\u001b[0;32m----> 4\u001b[0m     print_data()\n",
      "\u001b[0;31mNameError\u001b[0m: name 'print_data' is not defined"
     ]
    }
   ],
   "source": [
    "my_img_data = ExifData(test_img)"
   ]
  },
  {
   "cell_type": "code",
   "execution_count": 52,
   "id": "98f86dfb",
   "metadata": {},
   "outputs": [
    {
     "data": {
      "text/plain": [
       "<bound method ExifData.print_data of <__main__.ExifData object at 0x7423b5d38b10>>"
      ]
     },
     "execution_count": 52,
     "metadata": {},
     "output_type": "execute_result"
    }
   ],
   "source": [
    "my_img_data.print_data"
   ]
  },
  {
   "cell_type": "code",
   "execution_count": null,
   "id": "2c10c1a9",
   "metadata": {
    "scrolled": false
   },
   "outputs": [],
   "source": []
  },
  {
   "cell_type": "code",
   "execution_count": null,
   "id": "4924a478",
   "metadata": {},
   "outputs": [],
   "source": []
  }
 ],
 "metadata": {
  "kernelspec": {
   "display_name": "Python 3 (ipykernel)",
   "language": "python",
   "name": "python3"
  },
  "language_info": {
   "codemirror_mode": {
    "name": "ipython",
    "version": 3
   },
   "file_extension": ".py",
   "mimetype": "text/x-python",
   "name": "python",
   "nbconvert_exporter": "python",
   "pygments_lexer": "ipython3",
   "version": "3.11.5"
  }
 },
 "nbformat": 4,
 "nbformat_minor": 5
}
